{
 "cells": [
  {
   "cell_type": "code",
   "execution_count": 4,
   "metadata": {},
   "outputs": [
    {
     "name": "stdout",
     "output_type": "stream",
     "text": [
      "Device mapping:\n",
      "/job:localhost/replica:0/task:0/device:GPU:0 -> device: 0, name: NVIDIA RTX A6000, pci bus id: 0000:21:00.0, compute capability: 8.6\n",
      "\n"
     ]
    }
   ],
   "source": [
    "import os\n",
    "import numpy as np\n",
    "import shutil\n",
    "import glob\n",
    "import warnings\n",
    "warnings.filterwarnings('ignore')\n",
    "import tensorflow as tf\n",
    "from tqdm import tqdm\n",
    "sess = tf.compat.v1.Session(config=tf.compat.v1.ConfigProto(log_device_placement=True))"
   ]
  },
  {
   "cell_type": "code",
   "execution_count": 6,
   "metadata": {},
   "outputs": [
    {
     "name": "stderr",
     "output_type": "stream",
     "text": [
      "100%|██████████| 17498/17498 [01:58<00:00, 148.02it/s]\n",
      "100%|██████████| 3749/3749 [00:26<00:00, 141.53it/s]\n",
      "100%|██████████| 3751/3751 [00:27<00:00, 136.26it/s]\n"
     ]
    }
   ],
   "source": [
    "from keras.preprocessing.image import ImageDataGenerator, load_img, img_to_array, array_to_img\n",
    "train_files = glob.glob('./data/pets_images/train/*.jpg')\n",
    "test_files = glob.glob('./data/pets_images/test/*.jpg')\n",
    "validation_files = glob.glob('./data/pets_images/validation/*.jpg')\n",
    "\n",
    "train_images = []; train_labels = []\n",
    "test_images = []; test_labels = []\n",
    "validation_images = []; validation_labels = []\n",
    "\n",
    "for file in tqdm(train_files):\n",
    "    img = load_img(file)\n",
    "    img = img_to_array(img)\n",
    "    train_images.append(img)\n",
    "    if 'cat' in file:\n",
    "        train_labels.append(0)\n",
    "    else:\n",
    "        train_labels.append(1)\n",
    "\n",
    "for file in tqdm(test_files):\n",
    "    img = load_img(file)\n",
    "    img = img_to_array(img)\n",
    "    test_images.append(img)\n",
    "    if 'cat' in file:\n",
    "        test_labels.append(0)\n",
    "    else:\n",
    "        test_labels.append(1)\n",
    "        \n",
    "for file in tqdm(validation_files):\n",
    "    img = load_img(file)\n",
    "    img = img_to_array(img)\n",
    "    validation_images.append(img)\n",
    "    if 'cat' in file:\n",
    "        validation_labels.append(0)\n",
    "    else:\n",
    "        validation_labels.append(1)\n",
    "        \n",
    "train_images = np.array(train_images)\n",
    "test_images = np.array(test_images)\n",
    "validation_images = np.array(validation_images)"
   ]
  },
  {
   "cell_type": "code",
   "execution_count": 20,
   "metadata": {},
   "outputs": [],
   "source": [
    "batch_size = 32\n",
    "\n",
    "n_train = train_images.shape[0]\n",
    "n_val = validation_images.shape[0]\n",
    "\n",
    "train_datagen = ImageDataGenerator(rescale=1./255, \n",
    "                                   zoom_range=0.3, \n",
    "                                   rotation_range=50,\n",
    "                                   width_shift_range=0.2, \n",
    "                                   height_shift_range=0.2, \n",
    "                                   shear_range=0.2, \n",
    "                                   horizontal_flip=True, \n",
    "                                   fill_mode='nearest')\n",
    "validation_datagen = ImageDataGenerator(rescale=1./255)\n",
    "train_generator = train_datagen.flow(train_images, train_labels, batch_size=batch_size)\n",
    "validation_generator = validation_datagen.flow(validation_images, validation_labels, batch_size=batch_size)"
   ]
  },
  {
   "cell_type": "code",
   "execution_count": 25,
   "metadata": {},
   "outputs": [
    {
     "name": "stdout",
     "output_type": "stream",
     "text": [
      "Model: \"sequential_4\"\n",
      "_________________________________________________________________\n",
      "Layer (type)                 Output Shape              Param #   \n",
      "=================================================================\n",
      "inception_resnet_v2 (Functio (None, 3, 3, 1536)        54336736  \n",
      "_________________________________________________________________\n",
      "flatten_4 (Flatten)          (None, 13824)             0         \n",
      "_________________________________________________________________\n",
      "dense_8 (Dense)              (None, 256)               3539200   \n",
      "_________________________________________________________________\n",
      "dropout_4 (Dropout)          (None, 256)               0         \n",
      "_________________________________________________________________\n",
      "dense_9 (Dense)              (None, 1)                 257       \n",
      "=================================================================\n",
      "Total params: 57,876,193\n",
      "Trainable params: 3,539,457\n",
      "Non-trainable params: 54,336,736\n",
      "_________________________________________________________________\n"
     ]
    }
   ],
   "source": [
    "from tensorflow.keras.layers import  Flatten, Dense, Dropout\n",
    "from tensorflow.keras.applications import InceptionResNetV2\n",
    "from tensorflow.keras.models import Sequential\n",
    "from tensorflow.keras import optimizers\n",
    "\n",
    "input_shape = (150, 150, 3)\n",
    "\n",
    "conv_base = InceptionResNetV2(include_top=False, weights='imagenet', input_shape=input_shape)\n",
    "\n",
    "conv_base.trainable = False\n",
    "\n",
    "model = Sequential()\n",
    "model.add(conv_base)\n",
    "model.add(Flatten())\n",
    "model.add(Dense(256, activation='relu'))\n",
    "model.add(Dropout(0.5))\n",
    "model.add(Dense(1, activation='sigmoid'))\n",
    "\n",
    "\n",
    "model.compile(loss='binary_crossentropy',\n",
    "              optimizer=optimizers.RMSprop(lr=2e-5),\n",
    "              metrics=['accuracy'])\n",
    "\n",
    "model.summary()"
   ]
  },
  {
   "cell_type": "code",
   "execution_count": 26,
   "metadata": {},
   "outputs": [
    {
     "data": {
      "text/html": [
       "<div>\n",
       "<style scoped>\n",
       "    .dataframe tbody tr th:only-of-type {\n",
       "        vertical-align: middle;\n",
       "    }\n",
       "\n",
       "    .dataframe tbody tr th {\n",
       "        vertical-align: top;\n",
       "    }\n",
       "\n",
       "    .dataframe thead th {\n",
       "        text-align: right;\n",
       "    }\n",
       "</style>\n",
       "<table border=\"1\" class=\"dataframe\">\n",
       "  <thead>\n",
       "    <tr style=\"text-align: right;\">\n",
       "      <th></th>\n",
       "      <th>Layer Type</th>\n",
       "      <th>Layer Name</th>\n",
       "      <th>Layer Trainable</th>\n",
       "    </tr>\n",
       "  </thead>\n",
       "  <tbody>\n",
       "    <tr>\n",
       "      <th>0</th>\n",
       "      <td>&lt;tensorflow.python.keras.engine.functional.Fun...</td>\n",
       "      <td>inception_resnet_v2</td>\n",
       "      <td>False</td>\n",
       "    </tr>\n",
       "    <tr>\n",
       "      <th>1</th>\n",
       "      <td>&lt;tensorflow.python.keras.layers.core.Flatten o...</td>\n",
       "      <td>flatten_4</td>\n",
       "      <td>True</td>\n",
       "    </tr>\n",
       "    <tr>\n",
       "      <th>2</th>\n",
       "      <td>&lt;tensorflow.python.keras.layers.core.Dense obj...</td>\n",
       "      <td>dense_8</td>\n",
       "      <td>True</td>\n",
       "    </tr>\n",
       "    <tr>\n",
       "      <th>3</th>\n",
       "      <td>&lt;tensorflow.python.keras.layers.core.Dropout o...</td>\n",
       "      <td>dropout_4</td>\n",
       "      <td>True</td>\n",
       "    </tr>\n",
       "    <tr>\n",
       "      <th>4</th>\n",
       "      <td>&lt;tensorflow.python.keras.layers.core.Dense obj...</td>\n",
       "      <td>dense_9</td>\n",
       "      <td>True</td>\n",
       "    </tr>\n",
       "  </tbody>\n",
       "</table>\n",
       "</div>"
      ],
      "text/plain": [
       "                                          Layer Type           Layer Name  \\\n",
       "0  <tensorflow.python.keras.engine.functional.Fun...  inception_resnet_v2   \n",
       "1  <tensorflow.python.keras.layers.core.Flatten o...            flatten_4   \n",
       "2  <tensorflow.python.keras.layers.core.Dense obj...              dense_8   \n",
       "3  <tensorflow.python.keras.layers.core.Dropout o...            dropout_4   \n",
       "4  <tensorflow.python.keras.layers.core.Dense obj...              dense_9   \n",
       "\n",
       "   Layer Trainable  \n",
       "0            False  \n",
       "1             True  \n",
       "2             True  \n",
       "3             True  \n",
       "4             True  "
      ]
     },
     "execution_count": 26,
     "metadata": {},
     "output_type": "execute_result"
    }
   ],
   "source": [
    "import pandas as pd\n",
    "layers = [(layer, layer.name, layer.trainable) for layer in model.layers]\n",
    "pd.DataFrame(layers, columns=['Layer Type', 'Layer Name', 'Layer Trainable'])     "
   ]
  },
  {
   "cell_type": "code",
   "execution_count": 27,
   "metadata": {},
   "outputs": [
    {
     "name": "stdout",
     "output_type": "stream",
     "text": [
      "Epoch 1/100\n",
      "200/200 - 45s - loss: 0.3647 - accuracy: 0.8694 - val_loss: 0.1022 - val_accuracy: 0.9575\n",
      "\n",
      "Epoch 00001: val_accuracy improved from -inf to 0.95750, saving model to model\\irnetv2_transfer_learn_dogvscat.h5\n",
      "Epoch 2/100\n",
      "200/200 - 33s - loss: 0.2364 - accuracy: 0.9077 - val_loss: 0.0892 - val_accuracy: 0.9646\n",
      "\n",
      "Epoch 00002: val_accuracy improved from 0.95750 to 0.96458, saving model to model\\irnetv2_transfer_learn_dogvscat.h5\n",
      "Epoch 3/100\n",
      "200/200 - 33s - loss: 0.2207 - accuracy: 0.9067 - val_loss: 0.0679 - val_accuracy: 0.9733\n",
      "\n",
      "Epoch 00003: val_accuracy improved from 0.96458 to 0.97333, saving model to model\\irnetv2_transfer_learn_dogvscat.h5\n",
      "Epoch 4/100\n",
      "200/200 - 32s - loss: 0.2059 - accuracy: 0.9152 - val_loss: 0.0794 - val_accuracy: 0.9696\n",
      "\n",
      "Epoch 00004: val_accuracy did not improve from 0.97333\n",
      "Epoch 5/100\n",
      "200/200 - 32s - loss: 0.1923 - accuracy: 0.9230 - val_loss: 0.0788 - val_accuracy: 0.9700\n",
      "\n",
      "Epoch 00005: val_accuracy did not improve from 0.97333\n",
      "Epoch 6/100\n",
      "200/200 - 33s - loss: 0.1865 - accuracy: 0.9255 - val_loss: 0.0612 - val_accuracy: 0.9733\n",
      "\n",
      "Epoch 00006: val_accuracy did not improve from 0.97333\n",
      "Epoch 7/100\n",
      "200/200 - 33s - loss: 0.1811 - accuracy: 0.9253 - val_loss: 0.0637 - val_accuracy: 0.9733\n",
      "\n",
      "Epoch 00007: val_accuracy did not improve from 0.97333\n",
      "Epoch 8/100\n",
      "200/200 - 33s - loss: 0.1766 - accuracy: 0.9280 - val_loss: 0.0821 - val_accuracy: 0.9700\n",
      "\n",
      "Epoch 00008: val_accuracy did not improve from 0.97333\n",
      "Epoch 9/100\n",
      "200/200 - 33s - loss: 0.1868 - accuracy: 0.9216 - val_loss: 0.0633 - val_accuracy: 0.9708\n",
      "\n",
      "Epoch 00009: val_accuracy did not improve from 0.97333\n",
      "Epoch 10/100\n",
      "200/200 - 32s - loss: 0.1738 - accuracy: 0.9262 - val_loss: 0.0729 - val_accuracy: 0.9704\n",
      "\n",
      "Epoch 00010: val_accuracy did not improve from 0.97333\n",
      "Epoch 11/100\n",
      "200/200 - 32s - loss: 0.1769 - accuracy: 0.9263 - val_loss: 0.0640 - val_accuracy: 0.9733\n",
      "\n",
      "Epoch 00011: val_accuracy did not improve from 0.97333\n",
      "Epoch 12/100\n",
      "200/200 - 33s - loss: 0.1788 - accuracy: 0.9283 - val_loss: 0.0781 - val_accuracy: 0.9675\n",
      "\n",
      "Epoch 00012: val_accuracy did not improve from 0.97333\n",
      "Epoch 13/100\n",
      "200/200 - 33s - loss: 0.1714 - accuracy: 0.9291 - val_loss: 0.0646 - val_accuracy: 0.9737\n",
      "\n",
      "Epoch 00013: val_accuracy improved from 0.97333 to 0.97375, saving model to model\\irnetv2_transfer_learn_dogvscat.h5\n",
      "Epoch 14/100\n",
      "200/200 - 32s - loss: 0.1778 - accuracy: 0.9288 - val_loss: 0.0679 - val_accuracy: 0.9733\n",
      "\n",
      "Epoch 00014: val_accuracy did not improve from 0.97375\n",
      "Epoch 15/100\n",
      "200/200 - 33s - loss: 0.1738 - accuracy: 0.9328 - val_loss: 0.0834 - val_accuracy: 0.9667\n",
      "\n",
      "Epoch 00015: val_accuracy did not improve from 0.97375\n",
      "Epoch 16/100\n",
      "200/200 - 33s - loss: 0.1669 - accuracy: 0.9345 - val_loss: 0.0767 - val_accuracy: 0.9704\n",
      "\n",
      "Epoch 00016: val_accuracy did not improve from 0.97375\n"
     ]
    }
   ],
   "source": [
    "from keras.callbacks import EarlyStopping, ModelCheckpoint\n",
    "\n",
    "filepath = \"model/irnetv2_transfer_learn_dogvscat.h5\"\n",
    "\n",
    "save_model_cb = ModelCheckpoint(\n",
    "    filepath, monitor='val_accuracy', verbose=2, save_best_only=True, mode='max')\n",
    "# callback to stop the training if no improvement\n",
    "early_stopping_cb = EarlyStopping(monitor='val_loss', patience=10, mode='min')\n",
    "\n",
    "callbacks_list = [save_model_cb, early_stopping_cb]\n",
    "\n",
    "history = model.fit_generator(train_generator, steps_per_epoch=200, epochs=100,\n",
    "                              validation_data=validation_generator, validation_steps=75,\n",
    "                              verbose=2, callbacks=callbacks_list)"
   ]
  },
  {
   "cell_type": "code",
   "execution_count": 28,
   "metadata": {},
   "outputs": [
    {
     "data": {
      "image/png": "[encoded data removed]",
      "text/plain": [
       "<Figure size 864x288 with 2 Axes>"
      ]
     },
     "metadata": {
      "needs_background": "light"
     },
     "output_type": "display_data"
    }
   ],
   "source": [
    "%matplotlib inline\n",
    "import matplotlib.pyplot as plt\n",
    "\n",
    "f, (ax1, ax2) = plt.subplots(1, 2, figsize=(12, 4))\n",
    "t = f.suptitle('VGG16 Performance', fontsize=12)\n",
    "f.subplots_adjust(top=0.85, wspace=0.3)\n",
    "ax1.set_ylim((0.5,1))\n",
    "ax2.set_ylim((0,0.5))\n",
    "\n",
    "epoch_list = history.epoch\n",
    "ax1.plot(epoch_list, history.history['accuracy'], label='Train Accuracy')\n",
    "ax1.plot(epoch_list, history.history['val_accuracy'], label='Validation Accuracy')\n",
    "ax1.set_xticks(np.arange(0, epoch_list[-1], 3))\n",
    "ax1.set_ylabel('Accuracy Value')\n",
    "ax1.set_xlabel('Epoch')\n",
    "ax1.set_title('Accuracy')\n",
    "l1 = ax1.legend(loc=\"best\")\n",
    "\n",
    "ax2.plot(epoch_list, history.history['loss'], label='Train Loss')\n",
    "ax2.plot(epoch_list, history.history['val_loss'], label='Validation Loss')\n",
    "ax2.set_xticks(np.arange(0, epoch_list[-1], 3))\n",
    "ax2.set_ylabel('Loss Value')\n",
    "ax2.set_xlabel('Epoch')\n",
    "ax2.set_title('Loss')\n",
    "l2 = ax2.legend(loc=\"best\")"
   ]
  },
  {
   "cell_type": "code",
   "execution_count": 29,
   "metadata": {},
   "outputs": [],
   "source": [
    "test_images /= 255\n",
    "predict = model.predict(test_images)\n",
    "predict = np.round(predict)"
   ]
  },
  {
   "cell_type": "code",
   "execution_count": 30,
   "metadata": {},
   "outputs": [
    {
     "name": "stdout",
     "output_type": "stream",
     "text": [
      "              precision    recall  f1-score   support\n",
      "\n",
      "         Cat       0.98      0.95      0.97      1913\n",
      "         Dog       0.95      0.98      0.97      1836\n",
      "\n",
      "    accuracy                           0.97      3749\n",
      "   macro avg       0.97      0.97      0.97      3749\n",
      "weighted avg       0.97      0.97      0.97      3749\n",
      "\n"
     ]
    },
    {
     "data": {
      "image/png": "[encoded data removed]",
      "text/plain": [
       "<Figure size 432x288 with 2 Axes>"
      ]
     },
     "metadata": {
      "needs_background": "light"
     },
     "output_type": "display_data"
    }
   ],
   "source": [
    "from sklearn.metrics import confusion_matrix, classification_report\n",
    "import seaborn as sns\n",
    "\n",
    "report = classification_report(test_labels, predict, target_names=['Cat', 'Dog'])\n",
    "conf_mat = confusion_matrix(test_labels, predict)\n",
    "\n",
    "print(report)\n",
    "sns.heatmap(conf_mat, annot=True, fmt='d', cmap='YlGnBu')\n",
    "plt.show()"
   ]
  }
 ],
 "metadata": {
  "kernelspec": {
   "display_name": "Python 3.9.12 ('base')",
   "language": "python",
   "name": "python3"
  },
  "language_info": {
   "codemirror_mode": {
    "name": "ipython",
    "version": 3
   },
   "file_extension": ".py",
   "mimetype": "text/x-python",
   "name": "python",
   "nbconvert_exporter": "python",
   "pygments_lexer": "ipython3",
   "version": "3.9.12"
  },
  "orig_nbformat": 4,
  "vscode": {
   "interpreter": {
    "hash": "b8c179a8effd330e81a694212de9776c189edb37372fff9a89e9c3c0a5716602"
   }
  }
 },
 "nbformat": 4,
 "nbformat_minor": 2
}
