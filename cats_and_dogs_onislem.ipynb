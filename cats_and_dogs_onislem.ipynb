{
 "cells": [
  {
   "cell_type": "code",
   "execution_count": 4,
   "metadata": {},
   "outputs": [],
   "source": [
    "import os\n",
    "from zipfile import ZipFile\n",
    "import random\n",
    "import tensorflow as tf\n",
    "from tensorflow import keras\n",
    "from tensorflow.keras.optimizers import RMSprop\n",
    "from tensorflow.keras.preprocessing.image import ImageDataGenerator\n",
    "from keras.layers import Resizing, Rescaling\n",
    "from shutil import copyfile\n",
    "from skimage.transform import resize\n",
    "import numpy as np\n",
    "import matplotlib.pyplot as plt\n",
    "from tqdm import tqdm"
   ]
  },
  {
   "cell_type": "code",
   "execution_count": 5,
   "metadata": {},
   "outputs": [],
   "source": [
    "# extract the data from the zip file\n",
    "local_zip = 'data/kagglecatsanddogs_5340.zip'\n",
    "\n",
    "with ZipFile(local_zip, 'r') as zip:\n",
    "    zip.extractall(\"data/\")\n",
    "os.remove(\"data/CDLA-Permissive-2.0.pdf\")\n",
    "os.remove(\"data/readme[1].txt\")"
   ]
  },
  {
   "cell_type": "code",
   "execution_count": 6,
   "metadata": {},
   "outputs": [
    {
     "name": "stdout",
     "output_type": "stream",
     "text": [
      "12501\n",
      "12501\n"
     ]
    }
   ],
   "source": [
    "print(len(os.listdir('data/PetImages/Cat/')))\n",
    "print(len(os.listdir('data/PetImages/Dog/')))"
   ]
  },
  {
   "cell_type": "code",
   "execution_count": 7,
   "metadata": {},
   "outputs": [
    {
     "name": "stdout",
     "output_type": "stream",
     "text": [
      "Directory data/resized_images created\n"
     ]
    }
   ],
   "source": [
    "# create folders for the resized images\n",
    "create_folder_names = [\"data/resized_images\"]\n",
    "\n",
    "for dir in create_folder_names:\n",
    "    try:\n",
    "        os.mkdir(dir)\n",
    "        print(\"Directory \" + dir + \" created\")\n",
    "    except:\n",
    "        print(\"Directory \" + dir + \" not created\")"
   ]
  },
  {
   "cell_type": "code",
   "execution_count": 9,
   "metadata": {},
   "outputs": [
    {
     "name": "stdout",
     "output_type": "stream",
     "text": [
      "data/PetImages/Cat/Thumbs.db is empty\n",
      "data/PetImages/Cat/666.jpg is empty\n"
     ]
    },
    {
     "name": "stderr",
     "output_type": "stream",
     "text": [
      "100%|██████████| 12499/12499 [06:08<00:00, 33.88it/s]\n"
     ]
    },
    {
     "name": "stdout",
     "output_type": "stream",
     "text": [
      "12499 images resized\n",
      "data/PetImages/Dog/Thumbs.db is empty\n",
      "data/PetImages/Dog/11702.jpg is empty\n"
     ]
    },
    {
     "name": "stderr",
     "output_type": "stream",
     "text": [
      " 59%|█████▉    | 7435/12499 [03:52<02:05, 40.24it/s]/home/yasin.142.tarakci/miniconda3/lib/python3.9/site-packages/PIL/TiffImagePlugin.py:845: UserWarning: Truncated File Read\n",
      "  warnings.warn(str(msg))\n",
      "100%|██████████| 12499/12499 [05:48<00:00, 35.83it/s]"
     ]
    },
    {
     "name": "stdout",
     "output_type": "stream",
     "text": [
      "12499 images resized\n"
     ]
    },
    {
     "name": "stderr",
     "output_type": "stream",
     "text": [
      "\n"
     ]
    }
   ],
   "source": [
    "# resize the images and save them in the resized_images folder\n",
    "def resize_image(source, destination, width, height):\n",
    "    all_files = []\n",
    "    type = source.split(\"/\")[-1]\n",
    "    \n",
    "    for file in os.listdir(source):\n",
    "        file_path = source + \"/\" + file\n",
    "    \n",
    "        if os.path.getsize(file_path) and file.endswith(\".jpg\"):\n",
    "            all_files.append(file_path)\n",
    "        else:\n",
    "            print(f\"{file_path} is empty\")\n",
    "        \n",
    "    for file in tqdm(all_files):       \n",
    "        img = plt.imread(file)\n",
    "        res = resize(img, (width, height))\n",
    "        plt.imsave(destination + \"/\" + type.lower() + \"_\" + file.split(\"/\")[-1], res)\n",
    "        \n",
    "    print(f\"{len(all_files)} images resized\")\n",
    "        \n",
    "\n",
    "resize_image(\"data/PetImages/Cat\", \"data/resized_images/\", 150, 150)\n",
    "resize_image(\"data/PetImages/Dog\", \"data/resized_images/\", 150, 150)"
   ]
  },
  {
   "cell_type": "code",
   "execution_count": 10,
   "metadata": {},
   "outputs": [
    {
     "name": "stdout",
     "output_type": "stream",
     "text": [
      "Directory data/pets_images created\n",
      "Directory data/pets_images/train created\n",
      "Directory data/pets_images/test created\n",
      "Directory data/pets_images/validation created\n"
     ]
    }
   ],
   "source": [
    "# create folders for the train, validation and test sets\n",
    "create_folder_names = [\n",
    "    \"data/pets_images\",\n",
    "    \"data/pets_images/train\",\n",
    "    \"data/pets_images/test\",\n",
    "    \"data/pets_images/validation\",\n",
    "]\n",
    "\n",
    "for dir in create_folder_names:\n",
    "    try:\n",
    "        os.mkdir(dir)\n",
    "        print(\"Directory \" + dir + \" created\")\n",
    "    except:\n",
    "        print(\"Directory \" + dir + \" not created\")"
   ]
  },
  {
   "cell_type": "code",
   "execution_count": 11,
   "metadata": {},
   "outputs": [
    {
     "name": "stderr",
     "output_type": "stream",
     "text": [
      "100%|██████████| 19998/19998 [00:02<00:00, 9337.01it/s]\n",
      "100%|██████████| 3750/3750 [00:00<00:00, 10540.17it/s]\n",
      "100%|██████████| 1250/1250 [00:00<00:00, 6875.16it/s]\n"
     ]
    }
   ],
   "source": [
    "# split the data into train, validation and test sets\n",
    "def split_data(source, train_dir, test_dir, val_dir, train_size, test_size):\n",
    "    all_filess = []\n",
    "    \n",
    "    for file in os.listdir(source):\n",
    "        file_path = source + \"/\" + file\n",
    "        \n",
    "        if os.path.getsize(file_path):\n",
    "            all_filess.append(file_path)\n",
    "        else:\n",
    "            print(f\"{file_path} is empty\")\n",
    "    \n",
    "    n_files = len(all_filess)\n",
    "    split_point = int(n_files * train_size)\n",
    "    \n",
    "    shuffled = random.sample(all_filess, n_files)\n",
    "    train_set = shuffled[:split_point]\n",
    "    others = shuffled[split_point:]\n",
    "    \n",
    "    n_files = len(others)\n",
    "    split_point = int(n_files * (test_size / (1 - train_size)))\n",
    "    \n",
    "    test_set = others[:split_point]\n",
    "    val_set = others[split_point:]\n",
    "    \n",
    "    for file in tqdm(train_set):\n",
    "        copyfile(file, train_dir + \"/\" + file.split(\"/\")[-1])\n",
    "    \n",
    "    for file in tqdm(test_set):\n",
    "        copyfile(file, test_dir + \"/\" + file.split(\"/\")[-1])\n",
    "        \n",
    "    for file in tqdm(val_set):\n",
    "        copyfile(file, val_dir + \"/\" + file.split(\"/\")[-1])\n",
    "        \n",
    "src_dir = \"data/resized_images/\"\n",
    "train_dir = \"data/pets_images/train/\"\n",
    "test_dir = \"data/pets_images/test/\"\n",
    "val_dir = \"data/pets_images/validation/\"\n",
    "\n",
    "train_size = 0.8\n",
    "test_size = 0.15\n",
    "\n",
    "split_data(src_dir, train_dir, test_dir, val_dir, train_size, test_size)"
   ]
  }
 ],
 "metadata": {
  "kernelspec": {
   "display_name": "Python 3.9.12 ('base')",
   "language": "python",
   "name": "python3"
  },
  "language_info": {
   "codemirror_mode": {
    "name": "ipython",
    "version": 3
   },
   "file_extension": ".py",
   "mimetype": "text/x-python",
   "name": "python",
   "nbconvert_exporter": "python",
   "pygments_lexer": "ipython3",
   "version": "3.9.12"
  },
  "orig_nbformat": 4,
  "vscode": {
   "interpreter": {
    "hash": "1c5e2d9ad942c1d3d683155d372f08253bcbceeb98ef25b4d05e6d0c31073834"
   }
  }
 },
 "nbformat": 4,
 "nbformat_minor": 2
}
