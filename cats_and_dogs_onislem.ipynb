{
 "cells": [
  {
   "cell_type": "code",
   "execution_count": 65,
   "metadata": {},
   "outputs": [],
   "source": [
    "import os\n",
    "from zipfile import ZipFile\n",
    "import random\n",
    "import tensorflow as tf\n",
    "from tensorflow import keras\n",
    "from keras.optimizers import RMSprop\n",
    "from keras.preprocessing.image import ImageDataGenerator\n",
    "from keras.layers import Resizing, Rescaling\n",
    "from shutil import copyfile\n",
    "from skimage.transform import resize\n",
    "import numpy as np\n",
    "import matplotlib.pyplot as plt\n",
    "from tqdm import tqdm"
   ]
  },
  {
   "cell_type": "code",
   "execution_count": 10,
   "metadata": {},
   "outputs": [],
   "source": [
    "# extract the data from the zip file\n",
    "local_zip = 'data/kagglecatsanddogs_5340.zip'\n",
    "\n",
    "with ZipFile(local_zip, 'r') as zip:\n",
    "    zip.extractall(\"data/\")"
   ]
  },
  {
   "cell_type": "code",
   "execution_count": 11,
   "metadata": {},
   "outputs": [
    {
     "name": "stdout",
     "output_type": "stream",
     "text": [
      "12501\n",
      "12501\n"
     ]
    }
   ],
   "source": [
    "print(len(os.listdir('data/PetImages/Cat/')))\n",
    "print(len(os.listdir('data/PetImages/Dog/')))"
   ]
  },
  {
   "cell_type": "code",
   "execution_count": 34,
   "metadata": {},
   "outputs": [
    {
     "name": "stdout",
     "output_type": "stream",
     "text": [
      "Directory data/resized_images created\n",
      "Directory data/resized_images/cats created\n",
      "Directory data/resized_images/dogs created\n"
     ]
    }
   ],
   "source": [
    "# create folders for the resized images\n",
    "create_folder_names = [\"data/resized_images\", \"data/resized_images/cats\", \"data/resized_images/dogs\"]\n",
    "\n",
    "for dir in create_folder_names:\n",
    "    try:\n",
    "        os.mkdir(dir)\n",
    "        print(\"Directory \" + dir + \" created\")\n",
    "    except:\n",
    "        print(\"Directory \" + dir + \" not created\")"
   ]
  },
  {
   "cell_type": "code",
   "execution_count": 67,
   "metadata": {},
   "outputs": [
    {
     "name": "stdout",
     "output_type": "stream",
     "text": [
      "data/PetImages/Cat/666.jpg is empty\n",
      "data/PetImages/Cat/Thumbs.db is empty\n"
     ]
    },
    {
     "name": "stderr",
     "output_type": "stream",
     "text": [
      "100%|██████████| 12499/12499 [04:15<00:00, 48.92it/s]\n"
     ]
    },
    {
     "name": "stdout",
     "output_type": "stream",
     "text": [
      "12499 images resized\n",
      "data/PetImages/Dog/11702.jpg is empty\n",
      "data/PetImages/Dog/Thumbs.db is empty\n"
     ]
    },
    {
     "name": "stderr",
     "output_type": "stream",
     "text": [
      " 91%|█████████▏| 11436/12499 [03:43<00:22, 47.39it/s]c:\\Users\\yasin\\anaconda3\\lib\\site-packages\\PIL\\TiffImagePlugin.py:822: UserWarning: Truncated File Read\n",
      "  warnings.warn(str(msg))\n",
      "100%|██████████| 12499/12499 [04:03<00:00, 51.23it/s]"
     ]
    },
    {
     "name": "stdout",
     "output_type": "stream",
     "text": [
      "12499 images resized\n"
     ]
    },
    {
     "name": "stderr",
     "output_type": "stream",
     "text": [
      "\n"
     ]
    }
   ],
   "source": [
    "# resize the images and save them in the resized_images folder\n",
    "def resize_image(source, destination, width, height):\n",
    "    all_files = []\n",
    "    \n",
    "    for file in os.listdir(source):\n",
    "        file_path = source + \"/\" + file\n",
    "    \n",
    "        if os.path.getsize(file_path) and file.endswith(\".jpg\"):\n",
    "            all_files.append(file_path)\n",
    "        else:\n",
    "            print(f\"{file_path} is empty\")\n",
    "        \n",
    "    for file in tqdm(all_files):       \n",
    "        img = plt.imread(file)\n",
    "        res = resize(img, (width, height))\n",
    "        plt.imsave(destination + \"/\" + file.split(\"/\")[-1], res)\n",
    "        \n",
    "    print(f\"{len(all_files)} images resized\")\n",
    "        \n",
    "\n",
    "resize_image(\"data/PetImages/Cat\", \"data/resized_images/cats\", 150, 150)\n",
    "resize_image(\"data/PetImages/Dog\", \"data/resized_images/dogs\", 150, 150)"
   ]
  },
  {
   "cell_type": "code",
   "execution_count": 66,
   "metadata": {},
   "outputs": [
    {
     "name": "stderr",
     "output_type": "stream",
     "text": [
      "100%|██████████| 10/10 [00:00<00:00, 2488.46it/s]"
     ]
    },
    {
     "name": "stdout",
     "output_type": "stream",
     "text": [
      "Directory data/cats-and-dogs created\n",
      "Directory data/cats-and-dogs/train created\n",
      "Directory data/cats-and-dogs/test created\n",
      "Directory data/cats-and-dogs/validation created\n",
      "Directory data/cats-and-dogs/train/cats created\n",
      "Directory data/cats-and-dogs/train/dogs created\n",
      "Directory data/cats-and-dogs/test/cats created\n",
      "Directory data/cats-and-dogs/test/dogs created\n",
      "Directory data/cats-and-dogs/validation/cats created\n",
      "Directory data/cats-and-dogs/validation/dogs created\n"
     ]
    },
    {
     "name": "stderr",
     "output_type": "stream",
     "text": [
      "\n"
     ]
    }
   ],
   "source": [
    "# create folders for the train, validation and test sets\n",
    "create_folder_names = [\n",
    "    \"data/cats-and-dogs\",\n",
    "    \"data/cats-and-dogs/train\",\n",
    "    \"data/cats-and-dogs/test\",\n",
    "    \"data/cats-and-dogs/validation\",\n",
    "    \"data/cats-and-dogs/train/cats\",\n",
    "    \"data/cats-and-dogs/train/dogs\",\n",
    "    \"data/cats-and-dogs/test/cats\",\n",
    "    \"data/cats-and-dogs/test/dogs\",\n",
    "    \"data/cats-and-dogs/validation/cats\",\n",
    "    \"data/cats-and-dogs/validation/dogs\"\n",
    "]\n",
    "\n",
    "for dir in tqdm(create_folder_names):\n",
    "    try:\n",
    "        os.mkdir(dir)\n",
    "        print(\"Directory \" + dir + \" created\")\n",
    "    except:\n",
    "        print(\"Directory \" + dir + \" not created\")"
   ]
  },
  {
   "cell_type": "code",
   "execution_count": 68,
   "metadata": {},
   "outputs": [
    {
     "name": "stderr",
     "output_type": "stream",
     "text": [
      "100%|██████████| 9999/9999 [00:46<00:00, 216.48it/s]\n",
      "100%|██████████| 1875/1875 [00:08<00:00, 217.82it/s]\n",
      "100%|██████████| 625/625 [00:02<00:00, 218.36it/s]\n",
      "100%|██████████| 9999/9999 [00:46<00:00, 215.05it/s]\n",
      "100%|██████████| 1875/1875 [00:08<00:00, 215.60it/s]\n",
      "100%|██████████| 625/625 [00:02<00:00, 220.49it/s]\n"
     ]
    }
   ],
   "source": [
    "# split the data into train, validation and test sets\n",
    "def split_data(source, train_dir, test_dir, val_dir, train_size, test_size):\n",
    "    all_filess = []\n",
    "    \n",
    "    for file in os.listdir(source):\n",
    "        file_path = source + \"/\" + file\n",
    "        \n",
    "        if os.path.getsize(file_path):\n",
    "            all_filess.append(file_path)\n",
    "        else:\n",
    "            print(f\"{file_path} is empty\")\n",
    "    \n",
    "    n_files = len(all_filess)\n",
    "    split_point = int(n_files * train_size)\n",
    "    \n",
    "    shuffled = random.sample(all_filess, n_files)\n",
    "    train_set = shuffled[:split_point]\n",
    "    others = shuffled[split_point:]\n",
    "    \n",
    "    n_files = len(others)\n",
    "    split_point = int(n_files * (test_size / (1 - train_size)))\n",
    "    \n",
    "    test_set = others[:split_point]\n",
    "    val_set = others[split_point:]\n",
    "    \n",
    "    for file in tqdm(train_set):\n",
    "        copyfile(file, train_dir + \"/\" + file.split(\"/\")[-1])\n",
    "    \n",
    "    for file in tqdm(test_set):\n",
    "        copyfile(file, test_dir + \"/\" + file.split(\"/\")[-1])\n",
    "        \n",
    "    for file in tqdm(val_set):\n",
    "        copyfile(file, val_dir + \"/\" + file.split(\"/\")[-1])\n",
    "        \n",
    "cat_src_dir = \"data/resized_images/cats\"\n",
    "train_cat_dir = \"data/cats-and-dogs/train/cats\"\n",
    "test_cat_dir = \"data/cats-and-dogs/test/cats\"\n",
    "val_cat_dir = \"data/cats-and-dogs/validation/cats\"\n",
    "\n",
    "dog_src_dir = \"data/resized_images/dogs\"\n",
    "dog_train_dir = \"data/cats-and-dogs/train/dogs\"\n",
    "dog_test_dir = \"data/cats-and-dogs/test/dogs\"\n",
    "dog_val_dir = \"data/cats-and-dogs/validation/dogs\"\n",
    "\n",
    "train_size = 0.8\n",
    "test_size = 0.15\n",
    "\n",
    "split_data(cat_src_dir, train_cat_dir, test_cat_dir, val_cat_dir, train_size, test_size)\n",
    "split_data(dog_src_dir, dog_train_dir, dog_test_dir, dog_val_dir, train_size, test_size) "
   ]
  }
 ],
 "metadata": {
  "kernelspec": {
   "display_name": "Python 3.9.12 ('base')",
   "language": "python",
   "name": "python3"
  },
  "language_info": {
   "codemirror_mode": {
    "name": "ipython",
    "version": 3
   },
   "file_extension": ".py",
   "mimetype": "text/x-python",
   "name": "python",
   "nbconvert_exporter": "python",
   "pygments_lexer": "ipython3",
   "version": "3.9.12"
  },
  "orig_nbformat": 4,
  "vscode": {
   "interpreter": {
    "hash": "c63ddfc3ea35055ee7c4315c5b7da9d24ccbe0fde7eb8ead2d3578075a9f13f5"
   }
  }
 },
 "nbformat": 4,
 "nbformat_minor": 2
}
